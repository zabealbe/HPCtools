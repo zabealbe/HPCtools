{
 "cells": [
  {
   "cell_type": "markdown",
   "metadata": {},
   "source": [
    "# Example experiment"
   ]
  },
  {
   "cell_type": "markdown",
   "metadata": {},
   "source": [
    "Let's launch a \"Hello world\" experiment in three different languages! Here we leverage the slurm arrayjob feature to run the same job in parallel."
   ]
  },
  {
   "cell_type": "code",
   "execution_count": null,
   "metadata": {},
   "outputs": [],
   "source": [
    "# Experiment configuration\n",
    "\n",
    "project_name = \"example\" # Choose a name for your project\n",
    "\n",
    "main = \"example.py\" # The main script to run\n",
    "\n",
    "# This is a \"GridConfig\" structure, which represents multiple configurations to evaluate for our \"example.py\" file.\n",
    "config = {\n",
    "    \"string\": [ # example.py takes a --string argument, here the array of values tells the runner to run the script with each of these values\n",
    "        \"Hello, World!\",\n",
    "        \"Ciao Mondo!\",\n",
    "        \"Merhaba Dünya!\",\n",
    "    ]\n",
    "}\n",
    "\n",
    "# This is a list of configuration names, which will help us identify the logs later\n",
    "config_names = [\n",
    "    \"example\", # This string will be concatenated to each configuration name\n",
    "    [\n",
    "        \"en\",  # This will make the 1st configuration name \"example_en\"\n",
    "        \"it\",  # This will make the 2nd configuration name \"example_it\"\n",
    "        \"tr\",  # This will make the 3rd configuration name \"example_tr\"\n",
    "    ]\n",
    "]"
   ]
  },
  {
   "cell_type": "code",
   "execution_count": null,
   "metadata": {},
   "outputs": [],
   "source": [
    "# Environment configuration\n",
    "# Here we can define additional arguments for the template\n",
    "\n",
    "# since we are using a slurm template we can define the slurm configuration, may vary depending on the cluster\n",
    "slurm_config = {\n",
    "    \"time\": \"10:00:00\",\n",
    "    \"mem\": \"64G\",\n",
    "    \"cpus-per-task\": \"2\",\n",
    "    \"gres\": \"gpu:a100:1\"\n",
    "}\n",
    "\n",
    "# This will be run before the experiment, useful for setting up the environment\n",
    "run_before = f\"\"\"\n",
    "source $HOME/venvs/base/bin/activate\n",
    "\"\"\"\n",
    "\n",
    "# Check out the template file for more arguments"
   ]
  },
  {
   "cell_type": "markdown",
   "metadata": {},
   "source": [
    "### Run the experiment"
   ]
  },
  {
   "cell_type": "code",
   "execution_count": null,
   "metadata": {},
   "outputs": [],
   "source": [
    "from hpctools import runners as r\n",
    "from hpctools.utils import GridConfig, flatten_names\n",
    "\n",
    "# Here we need to use the appropriate runner, since the cluster login node is accessible via SSH we use the SSHRunner\n",
    "runner = r.SSHRunner(\n",
    "    project_name=project_name,\n",
    "    remote_workdir=f\"/home/myhome/workspace/{project_name}\", # This is the remote directory where workspace for this project will be created\n",
    "    username=\"example\",\n",
    "    key_filename=\"~/.ssh/example\",\n",
    "    hostname=\"hpc.example.it\",\n",
    ")\n",
    "runner.connect()\n"
   ]
  },
  {
   "cell_type": "code",
   "execution_count": null,
   "metadata": {},
   "outputs": [],
   "source": [
    "import os\n",
    "job = runner.run(\n",
    "    run_name=os.path.basename(globals()['__vsc_ipynb_file__']).rsplit(\".\", 1)[0], # Get the jupyter file name, works only for vscode jupyter server\n",
    "    template=\"../templates/slurm/arrayjob.slurm.j2\",\n",
    "    template_args={ # You can pass additional arguments to the template here\n",
    "        \"slurm_args\": slurm_config,\n",
    "        \"run_before\": run_before,\n",
    "        \"script_config_names\": flatten_names(config_names),\n",
    "        \"script_configs\": GridConfig(config).flatten(to_args=True),\n",
    "        \"script\": f\"python3 {main}\", # This is the command that will be run on the cluster\n",
    "        \"run_after\": \"\",\n",
    "    }\n",
    ")"
   ]
  },
  {
   "cell_type": "markdown",
   "metadata": {},
   "source": [
    "### Monitoring"
   ]
  },
  {
   "cell_type": "code",
   "execution_count": null,
   "metadata": {},
   "outputs": [],
   "source": [
    "# Visualize the slurm queue\n",
    "from hpctools.jupyter_utils import SlurmQueueWidget\n",
    "\n",
    "# This will display the slurm queue widget inside the jupyter notebook\n",
    "SlurmQueueWidget(runner, job.name).view()"
   ]
  }
 ],
 "metadata": {
  "kernelspec": {
   "display_name": ".venv",
   "language": "python",
   "name": "python3"
  },
  "language_info": {
   "codemirror_mode": {
    "name": "ipython",
    "version": 3
   },
   "file_extension": ".py",
   "mimetype": "text/x-python",
   "name": "python",
   "nbconvert_exporter": "python",
   "pygments_lexer": "ipython3",
   "version": "3.11.7"
  }
 },
 "nbformat": 4,
 "nbformat_minor": 2
}
